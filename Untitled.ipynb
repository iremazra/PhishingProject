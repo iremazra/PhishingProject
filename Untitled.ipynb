{
 "cells": [
  {
   "cell_type": "code",
   "execution_count": 2,
   "id": "6e755512-6312-41ec-a74d-5e3087f44713",
   "metadata": {},
   "outputs": [
    {
     "name": "stdout",
     "output_type": "stream",
     "text": [
      "Merhaba dünya\n",
      "C:\\Users\\Lenovo\\anaconda3\\python.exe\n"
     ]
    }
   ],
   "source": [
    "print(\"Merhaba dünya\")\n",
    "import sys\n",
    "print(sys.executable)"
   ]
  },
  {
   "cell_type": "code",
   "execution_count": 4,
   "id": "79af0ef8-860e-4004-92eb-18d6bbc4b3dd",
   "metadata": {},
   "outputs": [
    {
     "ename": "ModuleNotFoundError",
     "evalue": "No module named 'transformers'",
     "output_type": "error",
     "traceback": [
      "\u001b[1;31m---------------------------------------------------------------------------\u001b[0m",
      "\u001b[1;31mModuleNotFoundError\u001b[0m                       Traceback (most recent call last)",
      "File \u001b[1;32m~\\Desktop\\pythonEnvi\\pythonEnvi\\maintest.py:15\u001b[0m\n\u001b[0;32m     13\u001b[0m \u001b[38;5;28;01mfrom\u001b[39;00m \u001b[38;5;21;01mnltk\u001b[39;00m\u001b[38;5;21;01m.\u001b[39;00m\u001b[38;5;21;01mcorpus\u001b[39;00m \u001b[38;5;28;01mimport\u001b[39;00m stopwords\n\u001b[0;32m     14\u001b[0m \u001b[38;5;28;01mfrom\u001b[39;00m \u001b[38;5;21;01mnltk\u001b[39;00m\u001b[38;5;21;01m.\u001b[39;00m\u001b[38;5;21;01mstem\u001b[39;00m\u001b[38;5;21;01m.\u001b[39;00m\u001b[38;5;21;01mporter\u001b[39;00m \u001b[38;5;28;01mimport\u001b[39;00m PorterStemmer\n\u001b[1;32m---> 15\u001b[0m \u001b[38;5;28;01mfrom\u001b[39;00m \u001b[38;5;21;01mtransformers\u001b[39;00m \u001b[38;5;28;01mimport\u001b[39;00m pipeline\n\u001b[0;32m     16\u001b[0m \u001b[38;5;28;01mimport\u001b[39;00m \u001b[38;5;21;01mtorch\u001b[39;00m\n\u001b[0;32m     17\u001b[0m \u001b[38;5;28;01mimport\u001b[39;00m \u001b[38;5;21;01msmtplib\u001b[39;00m\n",
      "\u001b[1;31mModuleNotFoundError\u001b[0m: No module named 'transformers'"
     ]
    }
   ],
   "source": [
    "%run maintest.py"
   ]
  },
  {
   "cell_type": "code",
   "execution_count": 7,
   "id": "b09bfeb8-6659-4c1e-91a3-bb76b6461c34",
   "metadata": {},
   "outputs": [
    {
     "name": "stdout",
     "output_type": "stream",
     "text": [
      "Requirement already satisfied: absl-py==2.2.0 in c:\\users\\lenovo\\anaconda3\\lib\\site-packages (from -r requirements.txt (line 1)) (2.2.0)\n",
      "Collecting annotated-types==0.7.0 (from -r requirements.txt (line 2))\n",
      "  Using cached annotated_types-0.7.0-py3-none-any.whl.metadata (15 kB)\n",
      "Requirement already satisfied: astunparse==1.6.3 in c:\\users\\lenovo\\anaconda3\\lib\\site-packages (from -r requirements.txt (line 3)) (1.6.3)\n",
      "Collecting beartype==0.20.2 (from -r requirements.txt (line 4))\n",
      "  Using cached beartype-0.20.2-py3-none-any.whl.metadata (33 kB)\n",
      "Collecting blis==1.3.0 (from -r requirements.txt (line 5))\n",
      "  Using cached blis-1.3.0-cp312-cp312-win_amd64.whl.metadata (7.6 kB)\n",
      "Collecting catalogue==2.0.10 (from -r requirements.txt (line 6))\n",
      "  Using cached catalogue-2.0.10-py3-none-any.whl.metadata (14 kB)\n",
      "Requirement already satisfied: certifi==2025.1.31 in c:\\users\\lenovo\\anaconda3\\lib\\site-packages (from -r requirements.txt (line 7)) (2025.1.31)\n",
      "Collecting charset-normalizer==3.4.1 (from -r requirements.txt (line 8))\n",
      "  Using cached charset_normalizer-3.4.1-cp312-cp312-win_amd64.whl.metadata (36 kB)\n",
      "Collecting click==8.1.8 (from -r requirements.txt (line 9))\n",
      "  Using cached click-8.1.8-py3-none-any.whl.metadata (2.3 kB)\n",
      "Collecting cloudpathlib==0.21.0 (from -r requirements.txt (line 10))\n",
      "  Using cached cloudpathlib-0.21.0-py3-none-any.whl.metadata (14 kB)\n",
      "Collecting cloudpickle==3.1.1 (from -r requirements.txt (line 11))\n",
      "  Using cached cloudpickle-3.1.1-py3-none-any.whl.metadata (7.1 kB)\n",
      "Requirement already satisfied: colorama==0.4.6 in c:\\users\\lenovo\\anaconda3\\lib\\site-packages (from -r requirements.txt (line 12)) (0.4.6)\n",
      "Collecting confection==0.1.5 (from -r requirements.txt (line 13))\n",
      "  Using cached confection-0.1.5-py3-none-any.whl.metadata (19 kB)\n",
      "Collecting contourpy==1.3.2 (from -r requirements.txt (line 14))\n",
      "  Using cached contourpy-1.3.2-cp312-cp312-win_amd64.whl.metadata (5.5 kB)\n",
      "Collecting cycler==0.12.1 (from -r requirements.txt (line 15))\n",
      "  Using cached cycler-0.12.1-py3-none-any.whl.metadata (3.8 kB)\n",
      "Collecting cymem==2.0.11 (from -r requirements.txt (line 16))\n",
      "  Using cached cymem-2.0.11-cp312-cp312-win_amd64.whl.metadata (8.8 kB)\n",
      "Collecting fastai==2.8.1 (from -r requirements.txt (line 17))\n",
      "  Using cached fastai-2.8.1-py3-none-any.whl.metadata (9.5 kB)\n",
      "Collecting fastcore==1.8.1 (from -r requirements.txt (line 18))\n",
      "  Using cached fastcore-1.8.1-py3-none-any.whl.metadata (3.7 kB)\n",
      "Collecting fastdownload==0.0.7 (from -r requirements.txt (line 19))\n",
      "  Using cached fastdownload-0.0.7-py3-none-any.whl.metadata (5.5 kB)\n",
      "Collecting fastprogress==1.0.3 (from -r requirements.txt (line 20))\n",
      "  Using cached fastprogress-1.0.3-py3-none-any.whl.metadata (5.6 kB)\n",
      "Collecting fasttransform==0.0.2 (from -r requirements.txt (line 21))\n",
      "  Using cached fasttransform-0.0.2-py3-none-any.whl.metadata (7.6 kB)\n",
      "Collecting filelock==3.18.0 (from -r requirements.txt (line 22))\n",
      "  Using cached filelock-3.18.0-py3-none-any.whl.metadata (2.9 kB)\n",
      "Requirement already satisfied: flatbuffers==25.2.10 in c:\\users\\lenovo\\anaconda3\\lib\\site-packages (from -r requirements.txt (line 23)) (25.2.10)\n",
      "Collecting fonttools==4.57.0 (from -r requirements.txt (line 24))\n",
      "  Using cached fonttools-4.57.0-cp312-cp312-win_amd64.whl.metadata (104 kB)\n",
      "Collecting fsspec==2025.3.2 (from -r requirements.txt (line 25))\n",
      "  Using cached fsspec-2025.3.2-py3-none-any.whl.metadata (11 kB)\n",
      "Requirement already satisfied: gast==0.6.0 in c:\\users\\lenovo\\anaconda3\\lib\\site-packages (from -r requirements.txt (line 26)) (0.6.0)\n",
      "Requirement already satisfied: google-pasta==0.2.0 in c:\\users\\lenovo\\anaconda3\\lib\\site-packages (from -r requirements.txt (line 27)) (0.2.0)\n",
      "Requirement already satisfied: grpcio==1.71.0 in c:\\users\\lenovo\\anaconda3\\lib\\site-packages (from -r requirements.txt (line 28)) (1.71.0)\n",
      "Collecting h5py==3.13.0 (from -r requirements.txt (line 29))\n",
      "  Using cached h5py-3.13.0-cp312-cp312-win_amd64.whl.metadata (2.5 kB)\n",
      "Collecting idna==3.10 (from -r requirements.txt (line 30))\n",
      "  Using cached idna-3.10-py3-none-any.whl.metadata (10 kB)\n",
      "Collecting Jinja2==3.1.6 (from -r requirements.txt (line 31))\n",
      "  Using cached jinja2-3.1.6-py3-none-any.whl.metadata (2.9 kB)\n",
      "Requirement already satisfied: joblib==1.4.2 in c:\\users\\lenovo\\anaconda3\\lib\\site-packages (from -r requirements.txt (line 32)) (1.4.2)\n",
      "Requirement already satisfied: keras==3.9.0 in c:\\users\\lenovo\\anaconda3\\lib\\site-packages (from -r requirements.txt (line 33)) (3.9.0)\n",
      "Collecting kiwisolver==1.4.8 (from -r requirements.txt (line 34))\n",
      "  Using cached kiwisolver-1.4.8-cp312-cp312-win_amd64.whl.metadata (6.3 kB)\n",
      "Collecting langcodes==3.5.0 (from -r requirements.txt (line 35))\n",
      "  Using cached langcodes-3.5.0-py3-none-any.whl.metadata (29 kB)\n",
      "Collecting language_data==1.3.0 (from -r requirements.txt (line 36))\n",
      "  Using cached language_data-1.3.0-py3-none-any.whl.metadata (4.3 kB)\n",
      "Requirement already satisfied: libclang==18.1.1 in c:\\users\\lenovo\\anaconda3\\lib\\site-packages (from -r requirements.txt (line 37)) (18.1.1)\n",
      "Collecting marisa-trie==1.2.1 (from -r requirements.txt (line 38))\n",
      "  Using cached marisa_trie-1.2.1-cp312-cp312-win_amd64.whl.metadata (9.3 kB)\n",
      "Collecting Markdown==3.7 (from -r requirements.txt (line 39))\n",
      "  Using cached Markdown-3.7-py3-none-any.whl.metadata (7.0 kB)\n",
      "Collecting markdown-it-py==3.0.0 (from -r requirements.txt (line 40))\n",
      "  Using cached markdown_it_py-3.0.0-py3-none-any.whl.metadata (6.9 kB)\n",
      "Collecting MarkupSafe==3.0.2 (from -r requirements.txt (line 41))\n",
      "  Using cached MarkupSafe-3.0.2-cp312-cp312-win_amd64.whl.metadata (4.1 kB)\n",
      "Collecting matplotlib==3.10.1 (from -r requirements.txt (line 42))\n",
      "  Using cached matplotlib-3.10.1-cp312-cp312-win_amd64.whl.metadata (11 kB)\n",
      "Collecting mdurl==0.1.2 (from -r requirements.txt (line 43))\n",
      "  Using cached mdurl-0.1.2-py3-none-any.whl.metadata (1.6 kB)\n",
      "Requirement already satisfied: ml_dtypes==0.5.1 in c:\\users\\lenovo\\anaconda3\\lib\\site-packages (from -r requirements.txt (line 44)) (0.5.1)\n",
      "Requirement already satisfied: mpmath==1.3.0 in c:\\users\\lenovo\\anaconda3\\lib\\site-packages (from -r requirements.txt (line 45)) (1.3.0)\n",
      "Collecting murmurhash==1.0.12 (from -r requirements.txt (line 46))\n",
      "  Using cached murmurhash-1.0.12-cp312-cp312-win_amd64.whl.metadata (2.2 kB)\n",
      "Requirement already satisfied: namex==0.0.8 in c:\\users\\lenovo\\anaconda3\\lib\\site-packages (from -r requirements.txt (line 47)) (0.0.8)\n",
      "Collecting networkx==3.4.2 (from -r requirements.txt (line 48))\n",
      "  Using cached networkx-3.4.2-py3-none-any.whl.metadata (6.3 kB)\n",
      "Collecting numpy==2.1.3 (from -r requirements.txt (line 49))\n",
      "  Using cached numpy-2.1.3-cp312-cp312-win_amd64.whl.metadata (60 kB)\n",
      "Requirement already satisfied: opt_einsum==3.4.0 in c:\\users\\lenovo\\anaconda3\\lib\\site-packages (from -r requirements.txt (line 50)) (3.4.0)\n",
      "Requirement already satisfied: optree==0.14.1 in c:\\users\\lenovo\\anaconda3\\lib\\site-packages (from -r requirements.txt (line 51)) (0.14.1)\n",
      "Collecting packaging==24.2 (from -r requirements.txt (line 52))\n",
      "  Using cached packaging-24.2-py3-none-any.whl.metadata (3.2 kB)\n",
      "Collecting pandas==2.2.3 (from -r requirements.txt (line 53))\n",
      "  Using cached pandas-2.2.3-cp312-cp312-win_amd64.whl.metadata (19 kB)\n",
      "Collecting pillow==11.2.1 (from -r requirements.txt (line 54))\n",
      "  Using cached pillow-11.2.1-cp312-cp312-win_amd64.whl.metadata (9.1 kB)\n",
      "Collecting plum-dispatch==2.5.7 (from -r requirements.txt (line 55))\n",
      "  Using cached plum_dispatch-2.5.7-py3-none-any.whl.metadata (7.5 kB)\n",
      "Collecting preshed==3.0.9 (from -r requirements.txt (line 56))\n",
      "  Using cached preshed-3.0.9-cp312-cp312-win_amd64.whl.metadata (2.2 kB)\n",
      "Collecting protobuf==5.29.4 (from -r requirements.txt (line 57))\n",
      "  Using cached protobuf-5.29.4-cp310-abi3-win_amd64.whl.metadata (592 bytes)\n",
      "Collecting pydantic==2.11.3 (from -r requirements.txt (line 58))\n",
      "  Using cached pydantic-2.11.3-py3-none-any.whl.metadata (65 kB)\n",
      "Collecting pydantic_core==2.33.1 (from -r requirements.txt (line 59))\n",
      "  Using cached pydantic_core-2.33.1-cp312-cp312-win_amd64.whl.metadata (6.9 kB)\n",
      "Collecting Pygments==2.19.1 (from -r requirements.txt (line 60))\n",
      "  Using cached pygments-2.19.1-py3-none-any.whl.metadata (2.5 kB)\n",
      "Collecting pyparsing==3.2.3 (from -r requirements.txt (line 61))\n",
      "  Using cached pyparsing-3.2.3-py3-none-any.whl.metadata (5.0 kB)\n",
      "Requirement already satisfied: python-dateutil==2.9.0.post0 in c:\\users\\lenovo\\anaconda3\\lib\\site-packages (from -r requirements.txt (line 62)) (2.9.0.post0)\n",
      "Collecting pytz==2025.2 (from -r requirements.txt (line 63))\n",
      "  Using cached pytz-2025.2-py2.py3-none-any.whl.metadata (22 kB)\n",
      "Collecting PyYAML==6.0.2 (from -r requirements.txt (line 64))\n",
      "  Using cached PyYAML-6.0.2-cp312-cp312-win_amd64.whl.metadata (2.1 kB)\n",
      "Requirement already satisfied: requests==2.32.3 in c:\\users\\lenovo\\anaconda3\\lib\\site-packages (from -r requirements.txt (line 65)) (2.32.3)\n",
      "Collecting rich==13.9.4 (from -r requirements.txt (line 66))\n",
      "  Using cached rich-13.9.4-py3-none-any.whl.metadata (18 kB)\n",
      "Collecting scikit-learn==1.6.1 (from -r requirements.txt (line 67))\n",
      "  Using cached scikit_learn-1.6.1-cp312-cp312-win_amd64.whl.metadata (15 kB)\n",
      "Collecting scipy==1.15.2 (from -r requirements.txt (line 68))\n",
      "  Using cached scipy-1.15.2-cp312-cp312-win_amd64.whl.metadata (60 kB)\n",
      "Collecting shellingham==1.5.4 (from -r requirements.txt (line 69))\n",
      "  Using cached shellingham-1.5.4-py2.py3-none-any.whl.metadata (3.5 kB)\n",
      "Collecting six==1.17.0 (from -r requirements.txt (line 70))\n",
      "  Using cached six-1.17.0-py2.py3-none-any.whl.metadata (1.7 kB)\n",
      "Collecting smart-open==7.1.0 (from -r requirements.txt (line 71))\n",
      "  Using cached smart_open-7.1.0-py3-none-any.whl.metadata (24 kB)\n",
      "Collecting spacy==3.8.5 (from -r requirements.txt (line 72))\n",
      "  Using cached spacy-3.8.5-cp312-cp312-win_amd64.whl.metadata (28 kB)\n",
      "Collecting spacy-legacy==3.0.12 (from -r requirements.txt (line 73))\n",
      "  Using cached spacy_legacy-3.0.12-py2.py3-none-any.whl.metadata (2.8 kB)\n",
      "Collecting spacy-loggers==1.0.5 (from -r requirements.txt (line 74))\n",
      "  Using cached spacy_loggers-1.0.5-py3-none-any.whl.metadata (23 kB)\n",
      "Collecting srsly==2.5.1 (from -r requirements.txt (line 75))\n",
      "  Using cached srsly-2.5.1-cp312-cp312-win_amd64.whl.metadata (20 kB)\n",
      "Collecting sympy==1.13.1 (from -r requirements.txt (line 76))\n",
      "  Using cached sympy-1.13.1-py3-none-any.whl.metadata (12 kB)\n",
      "Requirement already satisfied: tensorboard==2.19.0 in c:\\users\\lenovo\\anaconda3\\lib\\site-packages (from -r requirements.txt (line 77)) (2.19.0)\n",
      "Requirement already satisfied: tensorboard-data-server==0.7.2 in c:\\users\\lenovo\\anaconda3\\lib\\site-packages (from -r requirements.txt (line 78)) (0.7.2)\n",
      "Requirement already satisfied: tensorflow==2.19.0 in c:\\users\\lenovo\\anaconda3\\lib\\site-packages (from -r requirements.txt (line 79)) (2.19.0)\n"
     ]
    },
    {
     "name": "stderr",
     "output_type": "stream",
     "text": [
      "ERROR: Ignored the following versions that require a different python version: 1.10.0 Requires-Python <3.12,>=3.8; 1.10.0rc1 Requires-Python <3.12,>=3.8; 1.10.0rc2 Requires-Python <3.12,>=3.8; 1.10.1 Requires-Python <3.12,>=3.8; 1.21.2 Requires-Python >=3.7,<3.11; 1.21.3 Requires-Python >=3.7,<3.11; 1.21.4 Requires-Python >=3.7,<3.11; 1.21.5 Requires-Python >=3.7,<3.11; 1.21.6 Requires-Python >=3.7,<3.11; 1.6.2 Requires-Python >=3.7,<3.10; 1.6.3 Requires-Python >=3.7,<3.10; 1.7.0 Requires-Python >=3.7,<3.10; 1.7.1 Requires-Python >=3.7,<3.10; 1.7.2 Requires-Python >=3.7,<3.11; 1.7.3 Requires-Python >=3.7,<3.11; 1.8.0 Requires-Python >=3.8,<3.11; 1.8.0rc1 Requires-Python >=3.8,<3.11; 1.8.0rc2 Requires-Python >=3.8,<3.11; 1.8.0rc3 Requires-Python >=3.8,<3.11; 1.8.0rc4 Requires-Python >=3.8,<3.11; 1.8.1 Requires-Python >=3.8,<3.11; 1.9.0 Requires-Python >=3.8,<3.12; 1.9.0rc1 Requires-Python >=3.8,<3.12; 1.9.0rc2 Requires-Python >=3.8,<3.12; 1.9.0rc3 Requires-Python >=3.8,<3.12; 1.9.1 Requires-Python >=3.8,<3.12\n",
      "ERROR: Could not find a version that satisfies the requirement tensorflow-io-gcs-filesystem==0.31.0 (from versions: none)\n",
      "ERROR: No matching distribution found for tensorflow-io-gcs-filesystem==0.31.0\n"
     ]
    }
   ],
   "source": [
    "!pip install -r requirements.txt"
   ]
  },
  {
   "cell_type": "code",
   "execution_count": 9,
   "id": "a2a89e98-be38-4860-af21-9468ac9e3477",
   "metadata": {},
   "outputs": [
    {
     "name": "stdout",
     "output_type": "stream",
     "text": [
      "3.12.7 | packaged by Anaconda, Inc. | (main, Oct  4 2024, 13:17:27) [MSC v.1929 64 bit (AMD64)]\n"
     ]
    }
   ],
   "source": [
    "import sys \n",
    "print (sys.version)"
   ]
  },
  {
   "cell_type": "code",
   "execution_count": null,
   "id": "a2cc4a68-ce0d-4680-a6d5-3282b60875c4",
   "metadata": {},
   "outputs": [],
   "source": [
    "conda create -n tf_env python=3.10\n",
    "conda activate tf_env"
   ]
  }
 ],
 "metadata": {
  "kernelspec": {
   "display_name": "Python [conda env:base] *",
   "language": "python",
   "name": "conda-base-py"
  },
  "language_info": {
   "codemirror_mode": {
    "name": "ipython",
    "version": 3
   },
   "file_extension": ".py",
   "mimetype": "text/x-python",
   "name": "python",
   "nbconvert_exporter": "python",
   "pygments_lexer": "ipython3",
   "version": "3.12.7"
  }
 },
 "nbformat": 4,
 "nbformat_minor": 5
}
