print("Merhaba dünya")
import sys
print(sys.executable)


%run maintest.py


!pip install -r requirements.txt


import sys 
print (sys.version)


conda create -n tf_env python=3.11.0
conda activate tf_env


conda create -n tf_env python=3.11.0
conda activate tf_env



